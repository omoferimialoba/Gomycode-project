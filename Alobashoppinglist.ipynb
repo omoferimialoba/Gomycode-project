{
 "cells": [
  {
   "cell_type": "code",
   "execution_count": 1,
   "metadata": {
    "colab": {
     "base_uri": "https://localhost:8080/"
    },
    "id": "rwSb0RvJe84a",
    "outputId": "eb02d7bc-85b3-40d3-918e-16e44f25c1e3"
   },
   "outputs": [
    {
     "name": "stdout",
     "output_type": "stream",
     "text": [
      "Enter an option: You can choose to add, remove, or view your cart.\n",
      "Choose quit to exit\n",
      "add\n",
      "What do you want to add?: yam\n",
      "Enter a quantity for your item: 4\n",
      "What do you want to add?: sweet\n",
      "Enter a quantity for your item: 7\n",
      "\n",
      "\n",
      "Enter an option: You can choose to add, remove, or view your cart.\n",
      "Choose quit to exit\n",
      "view\n",
      "These are the items you added to your cart:Your shopping list is ['yam', 'sweet'], the tuple equivalent is ('yam', 'sweet')\n",
      "('yam', '4')\n",
      "('sweet', '7')\n",
      "\n",
      "\n",
      "Enter an option: You can choose to add, remove, or view your cart.\n",
      "Choose quit to exit\n",
      "quit\n",
      "Thank you for shopping with us\n"
     ]
    }
   ],
   "source": [
    "shopping_list = []\n",
    "emp = {}  # Define the dictionary outside the loop\n",
    "\n",
    "while True:\n",
    "    options = input('Enter an option: You can choose to add, remove, or view your cart.\\nChoose quit to exit\\n')\n",
    "    if options == 'add':\n",
    "        for item in range(2):\n",
    "            what_add = input('What do you want to add?: ')\n",
    "            shopping_list.append(what_add)\n",
    "            emp[what_add] = input('Enter a quantity for your item: ')  # Add to the dictionary here\n",
    "        print('\\n')\n",
    "    elif options == 'remove':\n",
    "        item_to_remove = input('What do you want to remove?: ')\n",
    "        if item_to_remove in shopping_list:\n",
    "            shopping_list.remove(item_to_remove)\n",
    "            print('Item removed:', item_to_remove)\n",
    "        else:\n",
    "            print('Item not found in the shopping list')\n",
    "        print('\\n')\n",
    "    elif options == 'view':\n",
    "        print(f'These are the items you added to your cart:Your shopping list is {shopping_list}, the tuple equivalent is {tuple(shopping_list)}')\n",
    "        for i in emp.items():  # Iterate through dictionary items properly\n",
    "            print(i)\n",
    "        print('\\n')\n",
    "    elif options == 'quit':\n",
    "        print('Thank you for shopping with us')\n",
    "        break\n",
    "    else:\n",
    "        print('Please put a valid output')\n",
    "        print('\\n')"
   ]
  }
 ],
 "metadata": {
  "colab": {
   "provenance": []
  },
  "kernelspec": {
   "display_name": "Python 3 (ipykernel)",
   "language": "python",
   "name": "python3"
  },
  "language_info": {
   "codemirror_mode": {
    "name": "ipython",
    "version": 3
   },
   "file_extension": ".py",
   "mimetype": "text/x-python",
   "name": "python",
   "nbconvert_exporter": "python",
   "pygments_lexer": "ipython3",
   "version": "3.11.5"
  }
 },
 "nbformat": 4,
 "nbformat_minor": 1
}
