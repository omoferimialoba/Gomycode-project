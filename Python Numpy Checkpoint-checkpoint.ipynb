{
 "cells": [
  {
   "cell_type": "markdown",
   "id": "05d6dba5",
   "metadata": {},
   "source": [
    "Create a numpy array called \"grades\" that contains the following grades: [85, 90, 88, 92, 95, 80, 75, 98, 89, 83]\n",
    "\n",
    "Create a new file called \"grades_analysis.py\"\n",
    "Import the numpy library and create the \"grades\" array as specified above.\n",
    "Use numpy functions to calculate the mean, median, and standard deviation of the grades.\n",
    "Use numpy function to find the maximum and minimum of the grades.\n",
    "Use numpy function to sort the grades in ascending order.\n",
    "Use numpy function to find the index of the highest grade in the array.\n",
    "Use numpy function to count the number of students who scored above 90.\n",
    "Use numpy function to calculate the percentage of students who scored above 90.\n",
    "Use numpy function to calculate the percentage of students who scored below 75.\n",
    "Use numpy function to extract all the grades above 90 and put them in a new array called \"high_performers\".\n",
    "Create a new array called \"passing_grades\" that contains all the grades above 75.\n",
    "Print the result of all the above steps.\n",
    "Note:\n",
    "\n",
    "to calculate percentage use numpy.mean(grades > 90) * 100\n",
    "to extract the grades above 90 use grades[grades > 90]\n",
    "to extract the grades above 75 use grades[grades > 75]\n",
    "You can use other numpy functions as well to analyze the data as you want. The above steps are just examples of what can be done."
   ]
  },
  {
   "cell_type": "code",
   "execution_count": 79,
   "id": "c4e2a907",
   "metadata": {},
   "outputs": [
    {
     "name": "stdout",
     "output_type": "stream",
     "text": [
      "[85 90 88 92 95 80 75 98 89 83]\n"
     ]
    }
   ],
   "source": [
    "#Q1\n",
    "import numpy as np\n",
    "grades = np.array( [85, 90, 88, 92, 95, 80, 75, 98, 89, 83])\n",
    "print(grades)"
   ]
  },
  {
   "cell_type": "code",
   "execution_count": 78,
   "id": "cd019b74",
   "metadata": {},
   "outputs": [
    {
     "name": "stdout",
     "output_type": "stream",
     "text": [
      "87.5\n"
     ]
    }
   ],
   "source": [
    "#Q2 Mean\n",
    "grades_mean = np.mean(grades)\n",
    "print(grades_mean)"
   ]
  },
  {
   "cell_type": "code",
   "execution_count": 80,
   "id": "d7fa0a56",
   "metadata": {},
   "outputs": [
    {
     "name": "stdout",
     "output_type": "stream",
     "text": [
      "88.5\n"
     ]
    }
   ],
   "source": [
    "#Q2 median\n",
    "grades_median = np.median(grades)\n",
    "print(grades_median)"
   ]
  },
  {
   "cell_type": "code",
   "execution_count": 81,
   "id": "3670f3e5",
   "metadata": {},
   "outputs": [
    {
     "name": "stdout",
     "output_type": "stream",
     "text": [
      "6.591661399070799\n"
     ]
    }
   ],
   "source": [
    "#Q2 SD\n",
    "grades_std = np.std(grades)\n",
    "print(grades_std)"
   ]
  },
  {
   "cell_type": "code",
   "execution_count": 82,
   "id": "5fd5fca3",
   "metadata": {},
   "outputs": [
    {
     "name": "stdout",
     "output_type": "stream",
     "text": [
      " minimum grade 75\n",
      " maximum grade 98\n"
     ]
    }
   ],
   "source": [
    "#Q3 max and min\n",
    "#Mean\n",
    "grades_min = np.min(grades)\n",
    "print(\" minimum grade \" + str(grades_min))\n",
    "\n",
    "grades_max = np.max(grades)\n",
    "print(\" maximum grade \" + str(grades_max))\n"
   ]
  },
  {
   "cell_type": "code",
   "execution_count": 6,
   "id": "0180ca24",
   "metadata": {},
   "outputs": [
    {
     "data": {
      "text/plain": [
       "array([75, 80, 83, 85, 88, 89, 90, 92, 95, 98])"
      ]
     },
     "execution_count": 6,
     "metadata": {},
     "output_type": "execute_result"
    }
   ],
   "source": [
    "# Q4 sort\n",
    "grades_sort = np.sort(grades)\n",
    "print(grades_sort)\n"
   ]
  },
  {
   "cell_type": "code",
   "execution_count": 7,
   "id": "7fb888d5",
   "metadata": {},
   "outputs": [
    {
     "data": {
      "text/plain": [
       "98"
      ]
     },
     "execution_count": 7,
     "metadata": {},
     "output_type": "execute_result"
    }
   ],
   "source": [
    "#Q5\n",
    "grades_sort\n",
    "print(grades_sort[-1])\n"
   ]
  },
  {
   "cell_type": "code",
   "execution_count": 8,
   "id": "a79676b5",
   "metadata": {},
   "outputs": [
    {
     "data": {
      "text/plain": [
       "285"
      ]
     },
     "execution_count": 8,
     "metadata": {},
     "output_type": "execute_result"
    }
   ],
   "source": [
    "\n",
    "Countabove90 = sum(score for score in grades if score > 90)\n",
    "print(Countabove90)\n",
    "# len_grades = sum(grades)\n",
    "# len_grades"
   ]
  },
  {
   "cell_type": "code",
   "execution_count": 76,
   "id": "7d2998e4",
   "metadata": {},
   "outputs": [
    {
     "name": "stdout",
     "output_type": "stream",
     "text": [
      "the percentage above 90 is30.0%\n"
     ]
    }
   ],
   "source": [
    "#Q6\n",
    "above90 = []\n",
    "grade =np.array( [85, 90, 88, 92, 95, 80, 75, 98, 89, 83])\n",
    "for score in grade:\n",
    "    if score > 90:\n",
    "        above90.append(score)\n",
    "count_above90= len(above90)\n",
    "all_grade = len(grade)\n",
    "percentage_above_90 =(count_above90/all_grade) * 100\n",
    "print(\"the percentage above 90 is \" + str(percentage_above_90)+\"%\")\n"
   ]
  },
  {
   "cell_type": "code",
   "execution_count": 77,
   "id": "fa36fb72",
   "metadata": {},
   "outputs": [
    {
     "name": "stdout",
     "output_type": "stream",
     "text": [
      "the percentage below 75  is 0.0%\n"
     ]
    }
   ],
   "source": [
    "#Q7\n",
    "\n",
    "below75 = []\n",
    "grade =np.array( [85, 90, 88, 92, 95, 80, 75, 98, 89, 83])\n",
    "for score in grade:\n",
    "    if score < 75:\n",
    "        below75.append(score)\n",
    "count_below75= len(below75)\n",
    "all_grade = len(grade)\n",
    "percentage_below75 =(count_below75/all_grade) * 100\n",
    "print(\"the percentage below 75  is \" + str(percentage_below75)+\"%\")"
   ]
  },
  {
   "cell_type": "code",
   "execution_count": 95,
   "id": "86fa0823",
   "metadata": {},
   "outputs": [
    {
     "name": "stdout",
     "output_type": "stream",
     "text": [
      "Grade with high performer are  [92 95 98]\n"
     ]
    }
   ],
   "source": [
    "#Q8\n",
    "above90 = []\n",
    "grade =np.array( [85, 90, 88, 92, 95, 80, 75, 98, 89, 83])\n",
    "for score in grade:\n",
    "    if score > 90:\n",
    "        above90.append(score)\n",
    "high_performers = np.array(above90)\n",
    "print(\"Grade with high performer are \" , high_performers)"
   ]
  },
  {
   "cell_type": "code",
   "execution_count": 97,
   "id": "597de4d8",
   "metadata": {},
   "outputs": [
    {
     "name": "stdout",
     "output_type": "stream",
     "text": [
      "Passsing grade are  [85 90 88 92 95 80 98 89 83]\n"
     ]
    }
   ],
   "source": [
    "#9\n",
    "gradeabove75 = []\n",
    "grade =np.array( [85, 90, 88, 92, 95, 80, 75, 98, 89, 83])\n",
    "for score in grade:\n",
    "    if score > 75:\n",
    "        gradeabove75.append(score)\n",
    "passing_grades = np.array(gradeabove75)\n",
    "print( \"Passsing grades are \",passing_grades)"
   ]
  },
  {
   "cell_type": "code",
   "execution_count": 49,
   "id": "7f66a447",
   "metadata": {},
   "outputs": [
    {
     "name": "stdout",
     "output_type": "stream",
     "text": [
      "Percentage of students who scored above 90: 30.0\n",
      "10\n"
     ]
    }
   ],
   "source": [
    "# Assuming grades is a NumPy array containing the scores of all students\n",
    "grades = np.array([85, 90, 88, 92, 95, 80, 75, 98, 89, 83])\n",
    "\n",
    "# Calculate the percentage of students who scored above 80\n",
    "above_80_count = np.sum(grades > 90)\n",
    "total_students = len(grades)\n",
    "percentage_above_80 = (above_80_count / total_students) * 100\n",
    "\n",
    "print(\"Percentage of students who scored above 90:\", percentage_above_80)\n",
    "print(total_students)"
   ]
  },
  {
   "cell_type": "code",
   "execution_count": 61,
   "id": "44213e96",
   "metadata": {},
   "outputs": [
    {
     "name": "stdout",
     "output_type": "stream",
     "text": [
      "The percentage of grades above 90 is 30.00%\n"
     ]
    }
   ],
   "source": [
    "\n",
    "import numpy as np\n",
    "\n",
    "# Define the array of grades\n",
    "grades = np.array([85, 90, 88, 92, 95, 80, 75, 98, 89, 83])\n",
    "\n",
    "# Calculate the count of grades above 90 using NumPy's sum on a boolean array\n",
    "count_above90 = np.sum(grades > 90)\n",
    "\n",
    "# Calculate the total number of grades\n",
    "all_grades = grades.size  # Using .size attribute of NumPy arrays\n",
    "\n",
    "# Calculate the percentage of grades above 90\n",
    "percentage_above_90 = (count_above90 / all_grades) * 100\n",
    "\n",
    "# Print the result\n",
    "print(\"The percentage of grades above 90 is {:.2f}%\".format(percentage_above_90))\n"
   ]
  },
  {
   "cell_type": "code",
   "execution_count": 33,
   "id": "79c250c3",
   "metadata": {},
   "outputs": [
    {
     "name": "stdout",
     "output_type": "stream",
     "text": [
      "[92 95 91 93]\n",
      "Number of students scoring above 90: 4\n"
     ]
    }
   ],
   "source": [
    "\n",
    "\n",
    "import numpy as np\n",
    "\n",
    "grades = np.array([85, 92, 88, 95, 90, 91, 87, 89, 93, 86])\n",
    "\n",
    "# Filter the array to only include grades above 90 boolean indexing\n",
    "filtered_grades = grades[grades > 90]\n",
    "print(filtered_grades)\n",
    "# Use len() to count the number of elements in the filtered array\n",
    "above_90_count = len(filtered_grades)\n",
    "print(\"Number of students scoring above 90:\", above_90_count)"
   ]
  },
  {
   "cell_type": "code",
   "execution_count": 87,
   "id": "51ec0ce2",
   "metadata": {},
   "outputs": [
    {
     "name": "stdout",
     "output_type": "stream",
     "text": [
      "High Performers (grades above 90): [92 95 98]\n",
      "Passing Grades (grades above 75): [85 90 88 92 95 80 98 89 83]\n"
     ]
    }
   ],
   "source": [
    "import numpy as np\n",
    "\n",
    "# Define the array of grades\n",
    "grades = np.array([85, 90, 88, 92, 95, 80, 75, 98, 89, 83])\n",
    "\n",
    "# Use boolean indexing to extract grades above 90\n",
    "high_performers = grades[grades > 90]\n",
    "\n",
    "# Use boolean indexing to extract grades above 75\n",
    "passing_grades = grades[grades > 75]\n",
    "\n",
    "# Print the results\n",
    "print(\"High Performers (grades above 90):\", high_performers)\n",
    "print(\"Passing Grades (grades above 75):\", passing_grades)"
   ]
  },
  {
   "cell_type": "code",
   "execution_count": 102,
   "id": "de41233c",
   "metadata": {},
   "outputs": [
    {
     "name": "stdout",
     "output_type": "stream",
     "text": [
      "[False False False False False  True  True  True  True]\n",
      "[6 7 8 9]\n",
      "[6 7 8 9]\n"
     ]
    }
   ],
   "source": [
    "import numpy as np\n",
    "\n",
    "a = np.arange(1, 10)\n",
    "b = a > 5\n",
    "print(b)\n",
    "answer = a[a > 5]\n",
    "c = a[b]\n",
    "print(c)\n",
    "print(answer)"
   ]
  },
  {
   "cell_type": "code",
   "execution_count": 123,
   "id": "86bf5385",
   "metadata": {},
   "outputs": [
    {
     "data": {
      "text/plain": [
       "array([[0, 0, 5]])"
      ]
     },
     "execution_count": 123,
     "metadata": {},
     "output_type": "execute_result"
    }
   ],
   "source": [
    "np.random.randint(6, size = (1,3))"
   ]
  }
 ],
 "metadata": {
  "kernelspec": {
   "display_name": "Python 3 (ipykernel)",
   "language": "python",
   "name": "python3"
  },
  "language_info": {
   "codemirror_mode": {
    "name": "ipython",
    "version": 3
   },
   "file_extension": ".py",
   "mimetype": "text/x-python",
   "name": "python",
   "nbconvert_exporter": "python",
   "pygments_lexer": "ipython3",
   "version": "3.11.5"
  }
 },
 "nbformat": 4,
 "nbformat_minor": 5
}
