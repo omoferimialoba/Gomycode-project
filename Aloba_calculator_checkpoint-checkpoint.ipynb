{
 "cells": [
  {
   "cell_type": "code",
   "execution_count": null,
   "metadata": {
    "id": "j83vRdF68ytQ"
   },
   "outputs": [],
   "source": [
    "# use two method\n",
    "#calculator code\n",
    "def add(num1, num2):\n",
    "    result = num1 + num2\n",
    "    return result\n",
    "\n",
    "def sub(num1, num2):\n",
    "    result = num1 - num2\n",
    "    return result\n",
    "\n",
    "def multiply(num1, num2):\n",
    "    result = num1 * num2\n",
    "    return result\n",
    "\n",
    "def division(num1, num2):\n",
    "    result = num1 / num2\n",
    "    return result\n",
    "\n",
    "def calculator():\n",
    "    num1 = float(input('Enter the 1st number: '))\n",
    "    return num1\n",
    "# for i in operation.keys():\n",
    "#     print(i)\n",
    "num1 = calculator()\n",
    "while True:\n",
    "    num2 = float(input('Enter the 2nd number: '))\n",
    "    operation = {'+': add(num1,num2), '-': sub(num1,num2), '*': multiply(num1,num2), '/': division(num1,num2)}\n",
    "    operation_symbol = input(\"choose an operation (+, -, *, /) or 'end' to exit \")\n",
    "    if operation_symbol == 'end':\n",
    "            break\n",
    "    if operation_symbol not in operation:\n",
    "            print(\"Invalid operation symbol!\")\n",
    "            continue\n",
    "\n",
    "    out = operation[operation_symbol]\n",
    "    print(f'The result of the {operation_symbol} is {out}')\n",
    "\n",
    "    continue_choice = input(\"Do you want to continue with this result? (yes/no): \")\n",
    "    if continue_choice.lower() == 'yes':\n",
    "        num1 = out\n",
    "    else:\n",
    "\n",
    "        num1 = calculator()  # Start a new calculation"
   ]
  },
  {
   "cell_type": "code",
   "execution_count": null,
   "metadata": {
    "colab": {
     "background_save": true,
     "base_uri": "https://localhost:8080/"
    },
    "id": "xNVhqNzu8ssM",
    "outputId": "41c2b50b-a1c9-4432-fc1c-d2b10552e2f2"
   },
   "outputs": [
    {
     "name": "stdout",
     "output_type": "stream",
     "text": [
      "Available operations:\n",
      "+ - * / \n",
      "3.0 + 4.0 = 7.0\n",
      "7.0 + 5.0 = 12.0\n",
      "12.0 + 6.0 = 18.0\n"
     ]
    }
   ],
   "source": [
    "operations = {\n",
    "    '+': lambda x, y: x + y,\n",
    "    '-': lambda x, y: x - y,\n",
    "    '*': lambda x, y: x * y,\n",
    "    '/': lambda x, y: x / y if y != 0 else \"Error: Division by zero\"\n",
    "}\n",
    "\n",
    "def calculator():\n",
    "    num1 = float(input(\"Enter the first number: \"))\n",
    "\n",
    "    print(\"Available operations:\")\n",
    "    for symbol in operations.keys():\n",
    "        print(symbol, end=' ')\n",
    "    print()\n",
    "\n",
    "    should_continue = True\n",
    "    while should_continue:\n",
    "        operation_symbol = input(\"Choose an operation symbol: \")\n",
    "        if operation_symbol not in operations:\n",
    "            print(\"Invalid operation symbol. Please try again.\")\n",
    "            continue\n",
    "\n",
    "        num2 = float(input(\"Enter the second number: \"))\n",
    "\n",
    "        calculation_function = operations[operation_symbol]\n",
    "        answer = calculation_function(num1, num2)\n",
    "\n",
    "        print(f\"{num1} {operation_symbol} {num2} = {answer}\")\n",
    "\n",
    "        continue_choice = input(\"Do you want to continue with this result? (yes/no): \")\n",
    "        if continue_choice.lower() == 'yes':\n",
    "            num1 = answer\n",
    "        else:\n",
    "            should_continue = False\n",
    "            calculator()\n",
    "\n",
    "calculator()"
   ]
  }
 ],
 "metadata": {
  "colab": {
   "provenance": []
  },
  "kernelspec": {
   "display_name": "Python 3 (ipykernel)",
   "language": "python",
   "name": "python3"
  },
  "language_info": {
   "codemirror_mode": {
    "name": "ipython",
    "version": 3
   },
   "file_extension": ".py",
   "mimetype": "text/x-python",
   "name": "python",
   "nbconvert_exporter": "python",
   "pygments_lexer": "ipython3",
   "version": "3.11.5"
  }
 },
 "nbformat": 4,
 "nbformat_minor": 1
}
