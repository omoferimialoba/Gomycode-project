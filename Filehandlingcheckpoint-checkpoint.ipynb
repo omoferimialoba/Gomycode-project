{
 "cells": [
  {
   "cell_type": "code",
   "execution_count": 4,
   "id": "54151ead",
   "metadata": {},
   "outputs": [
    {
     "name": "stdout",
     "output_type": "stream",
     "text": [
      "[['Loan_ID' 'Gender' 'Married' ... 'Credit_History' 'Property_Area'\n",
      "  'Loan_Status']\n",
      " ['LP001002' 'Male' 'No' ... '1' 'Urban' 'Y']\n",
      " ['LP001003' 'Male' 'Yes' ... '1' 'Rural' 'N']\n",
      " ...\n",
      " ['LP002983' 'Male' 'Yes' ... '1' 'Urban' 'Y']\n",
      " ['LP002984' 'Male' 'Yes' ... '1' 'Urban' 'Y']\n",
      " ['LP002990' 'Female' 'No' ... '0' 'Semiurban' 'N']]\n",
      "mean: 141.16612377850163 median: 125.0 Standard Deviation : 88.2686624330009\n"
     ]
    }
   ],
   "source": [
    "import numpy as np\n",
    "data = np.genfromtxt(r'Loan_prediction_dataset.csv',  delimiter = ',', dtype = str  )\n",
    "print(data)\n",
    "median =np.median(data[1:,8].astype(float))\n",
    "mean = np.mean(data[1:,8].astype(float))\n",
    "STD = np.std((data[1:,8].astype(float)))\n",
    "print(\"mean:\", mean, \"median:\", median, \"Standard Deviation :\", STD)\n"
   ]
  }
 ],
 "metadata": {
  "kernelspec": {
   "display_name": "Python 3 (ipykernel)",
   "language": "python",
   "name": "python3"
  },
  "language_info": {
   "codemirror_mode": {
    "name": "ipython",
    "version": 3
   },
   "file_extension": ".py",
   "mimetype": "text/x-python",
   "name": "python",
   "nbconvert_exporter": "python",
   "pygments_lexer": "ipython3",
   "version": "3.11.5"
  }
 },
 "nbformat": 4,
 "nbformat_minor": 5
}
